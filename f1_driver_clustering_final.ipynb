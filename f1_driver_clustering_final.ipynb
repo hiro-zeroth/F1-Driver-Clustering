{
  "nbformat": 4,
  "nbformat_minor": 0,
  "metadata": {
    "colab": {
      "provenance": [],
      "authorship_tag": "ABX9TyP4MuVW/Y5DyL+HAACFtGPp",
      "include_colab_link": true
    },
    "kernelspec": {
      "name": "python3",
      "display_name": "Python 3"
    },
    "language_info": {
      "name": "python"
    }
  },
  "cells": [
    {
      "cell_type": "markdown",
      "metadata": {
        "id": "view-in-github",
        "colab_type": "text"
      },
      "source": [
        "<a href=\"https://colab.research.google.com/github/hiro-zeroth/F1-Driver-Clustering/blob/main/f1_driver_clustering_final.ipynb\" target=\"_parent\"><img src=\"https://colab.research.google.com/assets/colab-badge.svg\" alt=\"Open In Colab\"/></a>"
      ]
    },
    {
      "cell_type": "markdown",
      "source": [
        "Setup and Data Loading"
      ],
      "metadata": {
        "id": "vSh5kq5G_Sjr"
      }
    },
    {
      "cell_type": "code",
      "execution_count": null,
      "metadata": {
        "colab": {
          "base_uri": "https://localhost:8080/",
          "height": 449
        },
        "id": "rv5ftd_J_FaD",
        "outputId": "bca2b08f-9741-40cf-8d23-243b6f62a137"
      },
      "outputs": [
        {
          "output_type": "stream",
          "name": "stdout",
          "text": [
            "Mounted at /content/drive\n"
          ]
        },
        {
          "output_type": "display_data",
          "data": {
            "text/plain": [
              "<IPython.core.display.HTML object>"
            ],
            "text/html": [
              "\n",
              "     <input type=\"file\" id=\"files-c1b2ed8b-2e6c-4455-989e-0851466f20d3\" name=\"files[]\" multiple disabled\n",
              "        style=\"border:none\" />\n",
              "     <output id=\"result-c1b2ed8b-2e6c-4455-989e-0851466f20d3\">\n",
              "      Upload widget is only available when the cell has been executed in the\n",
              "      current browser session. Please rerun this cell to enable.\n",
              "      </output>\n",
              "      <script>// Copyright 2017 Google LLC\n",
              "//\n",
              "// Licensed under the Apache License, Version 2.0 (the \"License\");\n",
              "// you may not use this file except in compliance with the License.\n",
              "// You may obtain a copy of the License at\n",
              "//\n",
              "//      http://www.apache.org/licenses/LICENSE-2.0\n",
              "//\n",
              "// Unless required by applicable law or agreed to in writing, software\n",
              "// distributed under the License is distributed on an \"AS IS\" BASIS,\n",
              "// WITHOUT WARRANTIES OR CONDITIONS OF ANY KIND, either express or implied.\n",
              "// See the License for the specific language governing permissions and\n",
              "// limitations under the License.\n",
              "\n",
              "/**\n",
              " * @fileoverview Helpers for google.colab Python module.\n",
              " */\n",
              "(function(scope) {\n",
              "function span(text, styleAttributes = {}) {\n",
              "  const element = document.createElement('span');\n",
              "  element.textContent = text;\n",
              "  for (const key of Object.keys(styleAttributes)) {\n",
              "    element.style[key] = styleAttributes[key];\n",
              "  }\n",
              "  return element;\n",
              "}\n",
              "\n",
              "// Max number of bytes which will be uploaded at a time.\n",
              "const MAX_PAYLOAD_SIZE = 100 * 1024;\n",
              "\n",
              "function _uploadFiles(inputId, outputId) {\n",
              "  const steps = uploadFilesStep(inputId, outputId);\n",
              "  const outputElement = document.getElementById(outputId);\n",
              "  // Cache steps on the outputElement to make it available for the next call\n",
              "  // to uploadFilesContinue from Python.\n",
              "  outputElement.steps = steps;\n",
              "\n",
              "  return _uploadFilesContinue(outputId);\n",
              "}\n",
              "\n",
              "// This is roughly an async generator (not supported in the browser yet),\n",
              "// where there are multiple asynchronous steps and the Python side is going\n",
              "// to poll for completion of each step.\n",
              "// This uses a Promise to block the python side on completion of each step,\n",
              "// then passes the result of the previous step as the input to the next step.\n",
              "function _uploadFilesContinue(outputId) {\n",
              "  const outputElement = document.getElementById(outputId);\n",
              "  const steps = outputElement.steps;\n",
              "\n",
              "  const next = steps.next(outputElement.lastPromiseValue);\n",
              "  return Promise.resolve(next.value.promise).then((value) => {\n",
              "    // Cache the last promise value to make it available to the next\n",
              "    // step of the generator.\n",
              "    outputElement.lastPromiseValue = value;\n",
              "    return next.value.response;\n",
              "  });\n",
              "}\n",
              "\n",
              "/**\n",
              " * Generator function which is called between each async step of the upload\n",
              " * process.\n",
              " * @param {string} inputId Element ID of the input file picker element.\n",
              " * @param {string} outputId Element ID of the output display.\n",
              " * @return {!Iterable<!Object>} Iterable of next steps.\n",
              " */\n",
              "function* uploadFilesStep(inputId, outputId) {\n",
              "  const inputElement = document.getElementById(inputId);\n",
              "  inputElement.disabled = false;\n",
              "\n",
              "  const outputElement = document.getElementById(outputId);\n",
              "  outputElement.innerHTML = '';\n",
              "\n",
              "  const pickedPromise = new Promise((resolve) => {\n",
              "    inputElement.addEventListener('change', (e) => {\n",
              "      resolve(e.target.files);\n",
              "    });\n",
              "  });\n",
              "\n",
              "  const cancel = document.createElement('button');\n",
              "  inputElement.parentElement.appendChild(cancel);\n",
              "  cancel.textContent = 'Cancel upload';\n",
              "  const cancelPromise = new Promise((resolve) => {\n",
              "    cancel.onclick = () => {\n",
              "      resolve(null);\n",
              "    };\n",
              "  });\n",
              "\n",
              "  // Wait for the user to pick the files.\n",
              "  const files = yield {\n",
              "    promise: Promise.race([pickedPromise, cancelPromise]),\n",
              "    response: {\n",
              "      action: 'starting',\n",
              "    }\n",
              "  };\n",
              "\n",
              "  cancel.remove();\n",
              "\n",
              "  // Disable the input element since further picks are not allowed.\n",
              "  inputElement.disabled = true;\n",
              "\n",
              "  if (!files) {\n",
              "    return {\n",
              "      response: {\n",
              "        action: 'complete',\n",
              "      }\n",
              "    };\n",
              "  }\n",
              "\n",
              "  for (const file of files) {\n",
              "    const li = document.createElement('li');\n",
              "    li.append(span(file.name, {fontWeight: 'bold'}));\n",
              "    li.append(span(\n",
              "        `(${file.type || 'n/a'}) - ${file.size} bytes, ` +\n",
              "        `last modified: ${\n",
              "            file.lastModifiedDate ? file.lastModifiedDate.toLocaleDateString() :\n",
              "                                    'n/a'} - `));\n",
              "    const percent = span('0% done');\n",
              "    li.appendChild(percent);\n",
              "\n",
              "    outputElement.appendChild(li);\n",
              "\n",
              "    const fileDataPromise = new Promise((resolve) => {\n",
              "      const reader = new FileReader();\n",
              "      reader.onload = (e) => {\n",
              "        resolve(e.target.result);\n",
              "      };\n",
              "      reader.readAsArrayBuffer(file);\n",
              "    });\n",
              "    // Wait for the data to be ready.\n",
              "    let fileData = yield {\n",
              "      promise: fileDataPromise,\n",
              "      response: {\n",
              "        action: 'continue',\n",
              "      }\n",
              "    };\n",
              "\n",
              "    // Use a chunked sending to avoid message size limits. See b/62115660.\n",
              "    let position = 0;\n",
              "    do {\n",
              "      const length = Math.min(fileData.byteLength - position, MAX_PAYLOAD_SIZE);\n",
              "      const chunk = new Uint8Array(fileData, position, length);\n",
              "      position += length;\n",
              "\n",
              "      const base64 = btoa(String.fromCharCode.apply(null, chunk));\n",
              "      yield {\n",
              "        response: {\n",
              "          action: 'append',\n",
              "          file: file.name,\n",
              "          data: base64,\n",
              "        },\n",
              "      };\n",
              "\n",
              "      let percentDone = fileData.byteLength === 0 ?\n",
              "          100 :\n",
              "          Math.round((position / fileData.byteLength) * 100);\n",
              "      percent.textContent = `${percentDone}% done`;\n",
              "\n",
              "    } while (position < fileData.byteLength);\n",
              "  }\n",
              "\n",
              "  // All done.\n",
              "  yield {\n",
              "    response: {\n",
              "      action: 'complete',\n",
              "    }\n",
              "  };\n",
              "}\n",
              "\n",
              "scope.google = scope.google || {};\n",
              "scope.google.colab = scope.google.colab || {};\n",
              "scope.google.colab._files = {\n",
              "  _uploadFiles,\n",
              "  _uploadFilesContinue,\n",
              "};\n",
              "})(self);\n",
              "</script> "
            ]
          },
          "metadata": {}
        },
        {
          "output_type": "stream",
          "name": "stdout",
          "text": [
            "Saving kaggle.json to kaggle.json\n",
            "Dataset URL: https://www.kaggle.com/datasets/rohanrao/formula-1-world-championship-1950-2020\n",
            "License(s): CC0-1.0\n",
            "Downloading formula-1-world-championship-1950-2020.zip to /content\n",
            "  0% 0.00/6.28M [00:00<?, ?B/s]\n",
            "100% 6.28M/6.28M [00:00<00:00, 746MB/s]\n",
            "Archive:  formula-1-world-championship-1950-2020.zip\n",
            "  inflating: f1data/circuits.csv     \n",
            "  inflating: f1data/constructor_results.csv  \n",
            "  inflating: f1data/constructor_standings.csv  \n",
            "  inflating: f1data/constructors.csv  \n",
            "  inflating: f1data/driver_standings.csv  \n",
            "  inflating: f1data/drivers.csv      \n",
            "  inflating: f1data/lap_times.csv    \n",
            "  inflating: f1data/pit_stops.csv    \n",
            "  inflating: f1data/qualifying.csv   \n",
            "  inflating: f1data/races.csv        \n",
            "  inflating: f1data/results.csv      \n",
            "  inflating: f1data/seasons.csv      \n",
            "  inflating: f1data/sprint_results.csv  \n",
            "  inflating: f1data/status.csv       \n"
          ]
        }
      ],
      "source": [
        "from google.colab import drive, files\n",
        "drive.mount('/content/drive')\n",
        "files.upload()\n",
        "\n",
        "!mkdir -p ~/.kaggle\n",
        "!cp kaggle.json ~/.kaggle/\n",
        "!chmod 600 ~/.kaggle/kaggle.json\n",
        "!kaggle datasets download -d rohanrao/formula-1-world-championship-1950-2020\n",
        "!unzip formula-1-world-championship-1950-2020.zip -d f1data\n",
        "\n",
        "import pandas as pd"
      ]
    },
    {
      "cell_type": "code",
      "source": [
        "results = pd.read_csv(\"f1data/results.csv\")\n",
        "drivers = pd.read_csv(\"f1data/drivers.csv\")\n",
        "races = pd.read_csv(\"f1data/races.csv\")\n",
        "constructors = pd.read_csv(\"f1data/constructors.csv\")"
      ],
      "metadata": {
        "id": "jE-glzFX_IU7"
      },
      "execution_count": null,
      "outputs": []
    },
    {
      "cell_type": "code",
      "source": [
        "print(\"Results shape:\", results.shape)\n",
        "print(\"Drivers shape:\", drivers.shape)\n",
        "print(\"Races shape:\", races.shape)\n",
        "print(results.head())"
      ],
      "metadata": {
        "colab": {
          "base_uri": "https://localhost:8080/"
        },
        "id": "KKH19ruX_P8d",
        "outputId": "5f9e13a3-45b6-4b0e-bdac-6282636494cd"
      },
      "execution_count": null,
      "outputs": [
        {
          "output_type": "stream",
          "name": "stdout",
          "text": [
            "Results shape: (26759, 18)\n",
            "Drivers shape: (861, 9)\n",
            "Races shape: (1125, 18)\n",
            "   resultId  raceId  driverId  constructorId number  grid position  \\\n",
            "0         1      18         1              1     22     1        1   \n",
            "1         2      18         2              2      3     5        2   \n",
            "2         3      18         3              3      7     7        3   \n",
            "3         4      18         4              4      5    11        4   \n",
            "4         5      18         5              1     23     3        5   \n",
            "\n",
            "  positionText  positionOrder  points  laps         time milliseconds  \\\n",
            "0            1              1    10.0    58  1:34:50.616      5690616   \n",
            "1            2              2     8.0    58       +5.478      5696094   \n",
            "2            3              3     6.0    58       +8.163      5698779   \n",
            "3            4              4     5.0    58      +17.181      5707797   \n",
            "4            5              5     4.0    58      +18.014      5708630   \n",
            "\n",
            "  fastestLap rank fastestLapTime fastestLapSpeed  statusId  \n",
            "0         39    2       1:27.452         218.300         1  \n",
            "1         41    3       1:27.739         217.586         1  \n",
            "2         41    5       1:28.090         216.719         1  \n",
            "3         58    7       1:28.603         215.464         1  \n",
            "4         43    1       1:27.418         218.385         1  \n"
          ]
        }
      ]
    },
    {
      "cell_type": "markdown",
      "source": [
        "Data Preparation"
      ],
      "metadata": {
        "id": "ISEwiK32_VqN"
      }
    },
    {
      "cell_type": "code",
      "source": [
        "df = results.merge(races[[\"raceId\", \"year\"]], on=\"raceId\", how=\"left\")"
      ],
      "metadata": {
        "id": "77vtUq7H_WZW"
      },
      "execution_count": null,
      "outputs": []
    },
    {
      "cell_type": "code",
      "source": [
        "# Merge df with drivers to get driver surname\n",
        "df = df.merge(drivers[[\"driverId\", \"surname\"]], on=\"driverId\", how=\"left\")\n",
        "\n",
        "hamilton = df[df[\"surname\"] == \"Hamilton\"]\n",
        "print(\"Hamilton total races:\", hamilton.shape[0])"
      ],
      "metadata": {
        "colab": {
          "base_uri": "https://localhost:8080/"
        },
        "id": "NdBm5EAK_Yqg",
        "outputId": "2c41792d-93dd-48f2-a2c9-4298914a2cc1"
      },
      "execution_count": null,
      "outputs": [
        {
          "output_type": "stream",
          "name": "stdout",
          "text": [
            "Hamilton total races: 361\n"
          ]
        }
      ]
    },
    {
      "cell_type": "markdown",
      "source": [
        "Feature Engineering"
      ],
      "metadata": {
        "id": "ULUuMxv5_cpX"
      }
    },
    {
      "cell_type": "markdown",
      "source": [
        "Races per season (for normalization)"
      ],
      "metadata": {
        "id": "wqxilw9IIIPC"
      }
    },
    {
      "cell_type": "code",
      "source": [
        "season_races = df.groupby(\"year\")[\"raceId\"].nunique().reset_index()\n",
        "season_races.rename(columns={\"raceId\": \"total_races\"}, inplace=True)\n",
        "df = df.merge(season_races, on=\"year\", how=\"left\")"
      ],
      "metadata": {
        "id": "ZOuToDUW_dw5"
      },
      "execution_count": null,
      "outputs": []
    },
    {
      "cell_type": "markdown",
      "source": [
        "Driver performance per season"
      ],
      "metadata": {
        "id": "uVTsn5lMINqg"
      }
    },
    {
      "cell_type": "code",
      "source": [
        "driver_season = df.groupby([\"driverId\", \"year\"]).agg({\n",
        "    \"points\": \"sum\",\n",
        "    \"raceId\": \"nunique\",\n",
        "    \"positionOrder\": lambda x: (x == 1).sum(),  # wins\n",
        "}).reset_index()\n",
        "driver_season.rename(columns={\"positionOrder\": \"wins\"}, inplace=True)"
      ],
      "metadata": {
        "id": "pllmZhNp_gcY"
      },
      "execution_count": null,
      "outputs": []
    },
    {
      "cell_type": "markdown",
      "source": [
        "Normalize points by season leader (to adjust to different eras)"
      ],
      "metadata": {
        "id": "gg_hkU3sITpp"
      }
    },
    {
      "cell_type": "code",
      "source": [
        "season_max_points = driver_season.groupby(\"year\")[\"points\"].transform(\"max\")\n",
        "driver_season[\"points_pct\"] = driver_season[\"points\"] / season_max_points\n",
        "driver_season[\"win_pct\"] = driver_season[\"wins\"] / driver_season[\"raceId\"]"
      ],
      "metadata": {
        "id": "DXavlIFM_hzO"
      },
      "execution_count": null,
      "outputs": []
    },
    {
      "cell_type": "markdown",
      "source": [
        "Podiums per season"
      ],
      "metadata": {
        "id": "DRD7X9l3IbR9"
      }
    },
    {
      "cell_type": "code",
      "source": [
        "df[\"podium\"] = df[\"positionOrder\"] <= 3\n",
        "podium_season = df.groupby([\"driverId\", \"year\"])[\"podium\"].mean().reset_index()\n",
        "driver_season = driver_season.merge(podium_season, on=[\"driverId\", \"year\"])\n",
        "driver_season.rename(columns={\"podium\": \"podium_pct\"}, inplace=True)"
      ],
      "metadata": {
        "id": "M_2eb-HZ_nVL"
      },
      "execution_count": null,
      "outputs": []
    },
    {
      "cell_type": "markdown",
      "source": [
        "Career averages (era-adjusted)"
      ],
      "metadata": {
        "id": "Y91z_CIQIg2e"
      }
    },
    {
      "cell_type": "code",
      "source": [
        "driver_career = driver_season.groupby(\"driverId\").agg({\n",
        "    \"points_pct\": \"mean\",\n",
        "    \"win_pct\": \"mean\",\n",
        "    \"podium_pct\": \"mean\",\n",
        "}).reset_index()\n",
        "\n",
        "driver_career = driver_career.merge(\n",
        "    drivers[[\"driverId\", \"surname\", \"forename\"]],\n",
        "    on=\"driverId\",\n",
        "    how=\"left\"\n",
        ")\n"
      ],
      "metadata": {
        "id": "Tx4TEQYO_p7D"
      },
      "execution_count": null,
      "outputs": []
    },
    {
      "cell_type": "markdown",
      "source": [
        "Copy to driver_perf for extended stats"
      ],
      "metadata": {
        "id": "3LJgH2DzIkrr"
      }
    },
    {
      "cell_type": "code",
      "source": [
        "driver_perf = driver_career.copy()"
      ],
      "metadata": {
        "id": "MEmJKaoS_skU"
      },
      "execution_count": null,
      "outputs": []
    },
    {
      "cell_type": "markdown",
      "source": [
        "DNF stats"
      ],
      "metadata": {
        "id": "yDQGHZFQIpKu"
      }
    },
    {
      "cell_type": "code",
      "source": [
        "dnf_mask = results[\"positionText\"].isin([\"R\", \"DNF\", \"DSQ\", \"W\", \"DQ\"])\n",
        "driver_perf[\"dnfs\"] = (\n",
        "    results[dnf_mask]\n",
        "    .groupby(\"driverId\")[\"raceId\"]\n",
        "    .nunique()\n",
        ").fillna(0)\n",
        "driver_perf[\"dnf_pct\"] = driver_perf[\"dnfs\"] / results.groupby(\"driverId\")[\"raceId\"].nunique()"
      ],
      "metadata": {
        "id": "9Re0PHap_uZg"
      },
      "execution_count": null,
      "outputs": []
    },
    {
      "cell_type": "markdown",
      "source": [
        "Wins"
      ],
      "metadata": {
        "id": "73yitvcDIrM5"
      }
    },
    {
      "cell_type": "code",
      "source": [
        "driver_perf[\"wins\"] = (\n",
        "    results[results[\"positionOrder\"] == 1]\n",
        "    .groupby(\"driverId\")[\"raceId\"]\n",
        "    .nunique()\n",
        ").fillna(0)\n",
        "driver_perf[\"win_pct_raw\"] = driver_perf[\"wins\"] / results.groupby(\"driverId\")[\"raceId\"].nunique()"
      ],
      "metadata": {
        "id": "cPHl-1HR_vyS"
      },
      "execution_count": null,
      "outputs": []
    },
    {
      "cell_type": "markdown",
      "source": [
        "Avg grid position"
      ],
      "metadata": {
        "id": "_59jomjmItAo"
      }
    },
    {
      "cell_type": "code",
      "source": [
        "driver_perf[\"avg_grid\"] = results.groupby(\"driverId\")[\"grid\"].mean()"
      ],
      "metadata": {
        "id": "gRWsc3SU_2bO"
      },
      "execution_count": null,
      "outputs": []
    },
    {
      "cell_type": "markdown",
      "source": [
        "Constructors driven"
      ],
      "metadata": {
        "id": "Ma7Qw8YRIwes"
      }
    },
    {
      "cell_type": "code",
      "source": [
        "driver_perf[\"teams_driven\"] = results.groupby(\"driverId\")[\"constructorId\"].nunique()"
      ],
      "metadata": {
        "id": "_f7zTXxx_28N"
      },
      "execution_count": null,
      "outputs": []
    },
    {
      "cell_type": "markdown",
      "source": [
        "Clustering"
      ],
      "metadata": {
        "id": "MZyU_a0iIzSP"
      }
    },
    {
      "cell_type": "code",
      "source": [
        "from sklearn.preprocessing import StandardScaler\n",
        "from sklearn.cluster import KMeans\n",
        "from sklearn.metrics import silhouette_score\n",
        "\n",
        "features = driver_career[[\"points_pct\", \"win_pct\", \"podium_pct\"]]\n",
        "scaler = StandardScaler()\n",
        "X_scaled = scaler.fit_transform(features)"
      ],
      "metadata": {
        "id": "SXoShp5f_6i8"
      },
      "execution_count": null,
      "outputs": []
    },
    {
      "cell_type": "markdown",
      "source": [
        "Elbow Method"
      ],
      "metadata": {
        "id": "L_VLE-5mI1MN"
      }
    },
    {
      "cell_type": "code",
      "source": [
        "inertia = []\n",
        "K = range(2, 10)\n",
        "for k in K:\n",
        "    km = KMeans(n_clusters=k, random_state=42, n_init=10)\n",
        "    km.fit(X_scaled)\n",
        "    inertia.append(km.inertia_)\n",
        "\n",
        "import matplotlib.pyplot as plt\n",
        "import seaborn as sns\n",
        "\n",
        "plt.plot(K, inertia, \"bo-\")\n",
        "plt.xlabel(\"Number of clusters (k)\")\n",
        "plt.ylabel(\"Inertia\")\n",
        "plt.title(\"Elbow Method for Optimal k\")\n",
        "plt.show()"
      ],
      "metadata": {
        "colab": {
          "base_uri": "https://localhost:8080/",
          "height": 472
        },
        "id": "ymAm7IpE_89E",
        "outputId": "cfa6d4ee-2416-4f83-ad93-1f20e7b20254"
      },
      "execution_count": null,
      "outputs": [
        {
          "output_type": "display_data",
          "data": {
            "text/plain": [
              "<Figure size 640x480 with 1 Axes>"
            ],
            "image/png": "[encoded data removed]"
          },
          "metadata": {}
        }
      ]
    },
    {
      "cell_type": "markdown",
      "source": [
        "Final mode (k=4)"
      ],
      "metadata": {
        "id": "tLGX_-WmI5Tl"
      }
    },
    {
      "cell_type": "code",
      "source": [
        "kmeans = KMeans(n_clusters=4, random_state=42, n_init=10)\n",
        "driver_perf[\"cluster\"] = kmeans.fit_predict(X_scaled)"
      ],
      "metadata": {
        "id": "YNAR8iS9AE0P"
      },
      "execution_count": null,
      "outputs": []
    },
    {
      "cell_type": "markdown",
      "source": [
        "Evaluation"
      ],
      "metadata": {
        "id": "bAoPhmiMJEjM"
      }
    },
    {
      "cell_type": "code",
      "source": [
        "sil_score = silhouette_score(X_scaled, driver_perf[\"cluster\"])\n",
        "print(\"Silhouette Score:\", sil_score)"
      ],
      "metadata": {
        "colab": {
          "base_uri": "https://localhost:8080/"
        },
        "id": "alFUi9U1JASw",
        "outputId": "c37e2dd6-45bd-4e6e-cebf-3a8a52295b93"
      },
      "execution_count": null,
      "outputs": [
        {
          "output_type": "stream",
          "name": "stdout",
          "text": [
            "Silhouette Score: 0.8037981516630018\n"
          ]
        }
      ]
    },
    {
      "cell_type": "markdown",
      "source": [
        "Visualization"
      ],
      "metadata": {
        "id": "5ZKAD-fWJGsM"
      }
    },
    {
      "cell_type": "code",
      "source": [
        "plt.figure(figsize=(10,6))\n",
        "scatter = plt.scatter(\n",
        "    driver_perf[\"win_pct\"],\n",
        "    driver_perf[\"podium_pct\"],\n",
        "    c=driver_perf[\"cluster\"],\n",
        "    cmap=\"viridis\",\n",
        "    alpha=0.7\n",
        ")\n",
        "\n",
        "for _, row in driver_perf.iterrows():\n",
        "    if row[\"surname\"] in [\"Hamilton\", \"Verstappen\", \"Schumacher\", \"Senna\", \"Fangio\", \"Alonso\",\"Prost\",\"Vettel\",\"Farina\", \"Clark\"]:\n",
        "        plt.text(row[\"win_pct\"], row[\"podium_pct\"], row[\"surname\"], fontsize=9)\n",
        "\n",
        "plt.xlabel(\"Win % (career avg per season)\")\n",
        "plt.ylabel(\"Podium % (career avg per season)\")\n",
        "plt.title(\"Era-Adjusted F1 Driver Clusters\")\n",
        "plt.colorbar(scatter, label=\"Cluster\")\n",
        "plt.show()\n"
      ],
      "metadata": {
        "colab": {
          "base_uri": "https://localhost:8080/",
          "height": 564
        },
        "id": "91-MpRHsAGV4",
        "outputId": "9fe033af-7e86-4d2c-9c55-58ff6ea8c9d5"
      },
      "execution_count": null,
      "outputs": [
        {
          "output_type": "display_data",
          "data": {
            "text/plain": [
              "<Figure size 1000x600 with 2 Axes>"
            ],
            "image/png": "[encoded data removed]"
          },
          "metadata": {}
        }
      ]
    },
    {
      "cell_type": "markdown",
      "source": [
        "Insights"
      ],
      "metadata": {
        "id": "kHOtJ6mDJJ1N"
      }
    },
    {
      "cell_type": "code",
      "source": [
        "print(driver_perf.groupby(\"cluster\")[[\"points_pct\", \"win_pct\", \"podium_pct\", \"dnf_pct\"]].mean())\n",
        "\n",
        "for name in [\"Hamilton\", \"Verstappen\", \"Schumacher\", \"Senna\", \"Fangio\", \"Alonso\",\"Prost\",\"Clark\"]:\n",
        "    sample = df[df[\"surname\"] == name][\"driverId\"].unique()\n",
        "    if len(sample) > 0:\n",
        "        d_id = sample[0]\n",
        "        cluster = driver_perf.loc[driver_perf[\"driverId\"] == d_id, \"cluster\"].values[0]\n",
        "        print(f\"{name} is in Cluster {cluster}\")"
      ],
      "metadata": {
        "colab": {
          "base_uri": "https://localhost:8080/"
        },
        "id": "KZkRKCFhAHDn",
        "outputId": "efa59f46-c887-419c-b77e-1afd586a14c8"
      },
      "execution_count": null,
      "outputs": [
        {
          "output_type": "stream",
          "name": "stdout",
          "text": [
            "         points_pct   win_pct  podium_pct   dnf_pct\n",
            "cluster                                            \n",
            "0          0.010541  0.000233    0.004452  0.522932\n",
            "1          0.363547  0.077664    0.304418  0.409890\n",
            "2          0.151604  0.025749    0.163575  0.436575\n",
            "3          0.582553  0.345118    0.498744  0.544401\n",
            "Hamilton is in Cluster 3\n",
            "Verstappen is in Cluster 0\n",
            "Schumacher is in Cluster 2\n",
            "Senna is in Cluster 3\n",
            "Fangio is in Cluster 3\n",
            "Alonso is in Cluster 1\n",
            "Prost is in Cluster 3\n",
            "Clark is in Cluster 3\n"
          ]
        }
      ]
    }
  ]
}